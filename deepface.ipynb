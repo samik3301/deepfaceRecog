{
 "cells": [
  {
   "cell_type": "markdown",
   "metadata": {},
   "source": [
    "Experimenting with deepface library"
   ]
  },
  {
   "cell_type": "code",
   "execution_count": 1,
   "metadata": {},
   "outputs": [],
   "source": [
    "from deepface import DeepFace\n",
    "from deepface.basemodels import VGGFace\n"
   ]
  },
  {
   "cell_type": "code",
   "execution_count": 2,
   "metadata": {},
   "outputs": [],
   "source": [
    "model = VGGFace.loadModel()"
   ]
  },
  {
   "cell_type": "markdown",
   "metadata": {},
   "source": [
    "Here, the find function expects the target image as the first argument and the database path as the second argument"
   ]
  },
  {
   "cell_type": "code",
   "execution_count": 3,
   "metadata": {},
   "outputs": [],
   "source": [
    "#df = DeepFace.find(img_path=\"target.jpg\",db_path=\"/Users/samik/Desktop/Programming/deepfaceRecog/db\") #0.61 seconds"
   ]
  },
  {
   "cell_type": "code",
   "execution_count": 4,
   "metadata": {},
   "outputs": [
    {
     "name": "stdout",
     "output_type": "stream",
     "text": [
      "24-02-03 18:07:35 - ⚠️ Representations for images in /Users/samik/Desktop/Programming/deepfaceRecog/db folder were previously stored in representations_vgg_face.pkl. If you added new instances after the creation, then please delete this file and call find function again. It will create it again.\n",
      "24-02-03 18:07:35 - There are 5 representations found in representations_vgg_face.pkl\n",
      "24-02-03 18:07:38 - find function lasts 2.26772403717041 seconds\n"
     ]
    }
   ],
   "source": [
    "df = DeepFace.find(img_path=\"target.jpg\",db_path=\"/Users/samik/Desktop/Programming/deepfaceRecog/db\",model_name='VGG-Face',distance_metric='cosine') #0.69 seconds"
   ]
  },
  {
   "cell_type": "markdown",
   "metadata": {},
   "source": [
    "returns as dataframe object of representations and stores it as a pickle file "
   ]
  },
  {
   "cell_type": "code",
   "execution_count": 5,
   "metadata": {},
   "outputs": [],
   "source": [
    "#Check the time difference on second execution will be faster\n",
    "#df = DeepFace.find(img_path=\"target.jpg\",db_path=\"/Users/samik/Desktop/Programming/deepfaceRecog/db\") \n",
    "#time will be less if the user has already been recognized within the database, since the pickle model will be loaded\n",
    "#on regular basis, improves and learns"
   ]
  },
  {
   "cell_type": "code",
   "execution_count": 5,
   "metadata": {},
   "outputs": [
    {
     "data": {
      "text/plain": [
       "list"
      ]
     },
     "execution_count": 5,
     "metadata": {},
     "output_type": "execute_result"
    }
   ],
   "source": [
    "type(df)"
   ]
  },
  {
   "cell_type": "code",
   "execution_count": 6,
   "metadata": {},
   "outputs": [
    {
     "data": {
      "text/plain": [
       "[                                            identity  target_x  target_y  \\\n",
       " 0  /Users/samik/Desktop/Programming/deepfaceRecog...       988       234   \n",
       " 1  /Users/samik/Desktop/Programming/deepfaceRecog...       965       234   \n",
       " 2  /Users/samik/Desktop/Programming/deepfaceRecog...      1011       165   \n",
       " 3  /Users/samik/Desktop/Programming/deepfaceRecog...      1093       216   \n",
       " \n",
       "    target_w  target_h  source_x  source_y  source_w  source_h  VGG-Face_cosine  \n",
       " 0       680       680       927       377       661       661         0.176631  \n",
       " 1       611       611       927       377       661       661         0.186839  \n",
       " 2       404       404       927       377       661       661         0.228302  \n",
       " 3       442       442       927       377       661       661         0.254103  ]"
      ]
     },
     "execution_count": 6,
     "metadata": {},
     "output_type": "execute_result"
    }
   ],
   "source": [
    "df #these are the most significate candidates according to the similarity metric in the database"
   ]
  },
  {
   "cell_type": "code",
   "execution_count": 7,
   "metadata": {},
   "outputs": [
    {
     "name": "stdout",
     "output_type": "stream",
     "text": [
      "/Users/samik/Desktop/Programming/deepfaceRecog/db/Samik/samik2.jpg\n"
     ]
    }
   ],
   "source": [
    "matched= df[:1][0]['identity'].iloc[0] #returns the most significant match on basis of similarity metric\n",
    "print(matched)"
   ]
  },
  {
   "cell_type": "code",
   "execution_count": 8,
   "metadata": {},
   "outputs": [
    {
     "name": "stdout",
     "output_type": "stream",
     "text": [
      "Samik\n"
     ]
    }
   ],
   "source": [
    "#to get the image label\n",
    "temp_list = matched.split('/')\n",
    "label = temp_list[-2]\n",
    "print(label)"
   ]
  }
 ],
 "metadata": {
  "kernelspec": {
   "display_name": "Python 3.10.6 ('tf')",
   "language": "python",
   "name": "python3"
  },
  "language_info": {
   "codemirror_mode": {
    "name": "ipython",
    "version": 3
   },
   "file_extension": ".py",
   "mimetype": "text/x-python",
   "name": "python",
   "nbconvert_exporter": "python",
   "pygments_lexer": "ipython3",
   "version": "3.10.6"
  },
  "orig_nbformat": 4,
  "vscode": {
   "interpreter": {
    "hash": "4576714c2b95d235fc76a01f26be7cf6d2b9f977187c4a5dad5ab0dacc35d835"
   }
  }
 },
 "nbformat": 4,
 "nbformat_minor": 2
}
